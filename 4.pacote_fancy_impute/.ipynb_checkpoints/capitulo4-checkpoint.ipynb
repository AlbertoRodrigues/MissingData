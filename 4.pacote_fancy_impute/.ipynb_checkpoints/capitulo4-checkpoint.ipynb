{
 "cells": [
  {
   "cell_type": "markdown",
   "id": "c0c08308",
   "metadata": {},
   "source": [
    "### Esse capítulo mostra duas técnicas mais avançadas para imputações de dados faltantes. Agora os valores faltantes serão preditos baseados nas outras colunas. Os métodos são:\n",
    "1. KNN: Método encontra os K vizinhos mais próximos através de alguma métrica. Então, o valor predito será a média dos valores não faltantes.\n",
    "2. MICE: Método ajusta várias regressões lineares múltiplas considerando a variável do valor faltante como target e depois tira uma média para a imputação do mesmo."
   ]
  },
  {
   "cell_type": "code",
   "execution_count": 20,
   "id": "cf437fec",
   "metadata": {},
   "outputs": [],
   "source": [
    "import pandas as pd\n",
    "from fancyimpute import KNN, IterativeImputer\n",
    "import matplotlib.pyplot as plt\n",
    "from sklearn.impute import SimpleImputer\n",
    "from sklearn.linear_model import LogisticRegression\n",
    "from sklearn.metrics import f1_score"
   ]
  },
  {
   "cell_type": "code",
   "execution_count": 3,
   "id": "2a5b136a",
   "metadata": {},
   "outputs": [
    {
     "data": {
      "text/html": [
       "<div>\n",
       "<style scoped>\n",
       "    .dataframe tbody tr th:only-of-type {\n",
       "        vertical-align: middle;\n",
       "    }\n",
       "\n",
       "    .dataframe tbody tr th {\n",
       "        vertical-align: top;\n",
       "    }\n",
       "\n",
       "    .dataframe thead th {\n",
       "        text-align: right;\n",
       "    }\n",
       "</style>\n",
       "<table border=\"1\" class=\"dataframe\">\n",
       "  <thead>\n",
       "    <tr style=\"text-align: right;\">\n",
       "      <th></th>\n",
       "      <th>Pregnant</th>\n",
       "      <th>Glucose</th>\n",
       "      <th>Diastolic_BP</th>\n",
       "      <th>Skin_Fold</th>\n",
       "      <th>Serum_Insulin</th>\n",
       "      <th>BMI</th>\n",
       "      <th>Diabetes_Pedigree</th>\n",
       "      <th>Age</th>\n",
       "      <th>Class</th>\n",
       "    </tr>\n",
       "  </thead>\n",
       "  <tbody>\n",
       "    <tr>\n",
       "      <th>0</th>\n",
       "      <td>6.0</td>\n",
       "      <td>148.0</td>\n",
       "      <td>72.0</td>\n",
       "      <td>35.0</td>\n",
       "      <td>NaN</td>\n",
       "      <td>33.6</td>\n",
       "      <td>0.627</td>\n",
       "      <td>50</td>\n",
       "      <td>1.0</td>\n",
       "    </tr>\n",
       "    <tr>\n",
       "      <th>1</th>\n",
       "      <td>1.0</td>\n",
       "      <td>85.0</td>\n",
       "      <td>66.0</td>\n",
       "      <td>29.0</td>\n",
       "      <td>NaN</td>\n",
       "      <td>26.6</td>\n",
       "      <td>0.351</td>\n",
       "      <td>31</td>\n",
       "      <td>0.0</td>\n",
       "    </tr>\n",
       "    <tr>\n",
       "      <th>2</th>\n",
       "      <td>8.0</td>\n",
       "      <td>183.0</td>\n",
       "      <td>64.0</td>\n",
       "      <td>NaN</td>\n",
       "      <td>NaN</td>\n",
       "      <td>23.3</td>\n",
       "      <td>0.672</td>\n",
       "      <td>32</td>\n",
       "      <td>1.0</td>\n",
       "    </tr>\n",
       "    <tr>\n",
       "      <th>3</th>\n",
       "      <td>1.0</td>\n",
       "      <td>89.0</td>\n",
       "      <td>66.0</td>\n",
       "      <td>23.0</td>\n",
       "      <td>94.0</td>\n",
       "      <td>28.1</td>\n",
       "      <td>0.167</td>\n",
       "      <td>21</td>\n",
       "      <td>0.0</td>\n",
       "    </tr>\n",
       "    <tr>\n",
       "      <th>4</th>\n",
       "      <td>0.0</td>\n",
       "      <td>137.0</td>\n",
       "      <td>40.0</td>\n",
       "      <td>35.0</td>\n",
       "      <td>168.0</td>\n",
       "      <td>43.1</td>\n",
       "      <td>2.288</td>\n",
       "      <td>33</td>\n",
       "      <td>1.0</td>\n",
       "    </tr>\n",
       "    <tr>\n",
       "      <th>...</th>\n",
       "      <td>...</td>\n",
       "      <td>...</td>\n",
       "      <td>...</td>\n",
       "      <td>...</td>\n",
       "      <td>...</td>\n",
       "      <td>...</td>\n",
       "      <td>...</td>\n",
       "      <td>...</td>\n",
       "      <td>...</td>\n",
       "    </tr>\n",
       "    <tr>\n",
       "      <th>763</th>\n",
       "      <td>10.0</td>\n",
       "      <td>101.0</td>\n",
       "      <td>76.0</td>\n",
       "      <td>48.0</td>\n",
       "      <td>180.0</td>\n",
       "      <td>32.9</td>\n",
       "      <td>0.171</td>\n",
       "      <td>63</td>\n",
       "      <td>0.0</td>\n",
       "    </tr>\n",
       "    <tr>\n",
       "      <th>764</th>\n",
       "      <td>2.0</td>\n",
       "      <td>122.0</td>\n",
       "      <td>70.0</td>\n",
       "      <td>27.0</td>\n",
       "      <td>NaN</td>\n",
       "      <td>36.8</td>\n",
       "      <td>0.340</td>\n",
       "      <td>27</td>\n",
       "      <td>0.0</td>\n",
       "    </tr>\n",
       "    <tr>\n",
       "      <th>765</th>\n",
       "      <td>5.0</td>\n",
       "      <td>121.0</td>\n",
       "      <td>72.0</td>\n",
       "      <td>23.0</td>\n",
       "      <td>112.0</td>\n",
       "      <td>26.2</td>\n",
       "      <td>0.245</td>\n",
       "      <td>30</td>\n",
       "      <td>0.0</td>\n",
       "    </tr>\n",
       "    <tr>\n",
       "      <th>766</th>\n",
       "      <td>1.0</td>\n",
       "      <td>126.0</td>\n",
       "      <td>60.0</td>\n",
       "      <td>NaN</td>\n",
       "      <td>NaN</td>\n",
       "      <td>30.1</td>\n",
       "      <td>0.349</td>\n",
       "      <td>47</td>\n",
       "      <td>1.0</td>\n",
       "    </tr>\n",
       "    <tr>\n",
       "      <th>767</th>\n",
       "      <td>1.0</td>\n",
       "      <td>93.0</td>\n",
       "      <td>70.0</td>\n",
       "      <td>31.0</td>\n",
       "      <td>NaN</td>\n",
       "      <td>30.4</td>\n",
       "      <td>0.315</td>\n",
       "      <td>23</td>\n",
       "      <td>0.0</td>\n",
       "    </tr>\n",
       "  </tbody>\n",
       "</table>\n",
       "<p>768 rows × 9 columns</p>\n",
       "</div>"
      ],
      "text/plain": [
       "     Pregnant  Glucose  Diastolic_BP  Skin_Fold  Serum_Insulin   BMI  \\\n",
       "0         6.0    148.0          72.0       35.0            NaN  33.6   \n",
       "1         1.0     85.0          66.0       29.0            NaN  26.6   \n",
       "2         8.0    183.0          64.0        NaN            NaN  23.3   \n",
       "3         1.0     89.0          66.0       23.0           94.0  28.1   \n",
       "4         0.0    137.0          40.0       35.0          168.0  43.1   \n",
       "..        ...      ...           ...        ...            ...   ...   \n",
       "763      10.0    101.0          76.0       48.0          180.0  32.9   \n",
       "764       2.0    122.0          70.0       27.0            NaN  36.8   \n",
       "765       5.0    121.0          72.0       23.0          112.0  26.2   \n",
       "766       1.0    126.0          60.0        NaN            NaN  30.1   \n",
       "767       1.0     93.0          70.0       31.0            NaN  30.4   \n",
       "\n",
       "     Diabetes_Pedigree  Age  Class  \n",
       "0                0.627   50    1.0  \n",
       "1                0.351   31    0.0  \n",
       "2                0.672   32    1.0  \n",
       "3                0.167   21    0.0  \n",
       "4                2.288   33    1.0  \n",
       "..                 ...  ...    ...  \n",
       "763              0.171   63    0.0  \n",
       "764              0.340   27    0.0  \n",
       "765              0.245   30    0.0  \n",
       "766              0.349   47    1.0  \n",
       "767              0.315   23    0.0  \n",
       "\n",
       "[768 rows x 9 columns]"
      ]
     },
     "execution_count": 3,
     "metadata": {},
     "output_type": "execute_result"
    }
   ],
   "source": [
    "diabetes=pd.read_csv(\"../dados/pima-indians-diabetes data.csv\", sep=\",\")\n",
    "diabetes"
   ]
  },
  {
   "cell_type": "code",
   "execution_count": 4,
   "id": "68c83554",
   "metadata": {},
   "outputs": [
    {
     "data": {
      "text/plain": [
       "Pregnant             0.000000\n",
       "Glucose              0.006510\n",
       "Diastolic_BP         0.045573\n",
       "Skin_Fold            0.295573\n",
       "Serum_Insulin        0.486979\n",
       "BMI                  0.014323\n",
       "Diabetes_Pedigree    0.000000\n",
       "Age                  0.000000\n",
       "Class                0.000000\n",
       "dtype: float64"
      ]
     },
     "execution_count": 4,
     "metadata": {},
     "output_type": "execute_result"
    }
   ],
   "source": [
    "diabetes.isna().mean()"
   ]
  },
  {
   "cell_type": "markdown",
   "id": "b1a8f9e6",
   "metadata": {},
   "source": [
    "### KNN"
   ]
  },
  {
   "cell_type": "code",
   "execution_count": 5,
   "id": "fd9f1d61",
   "metadata": {},
   "outputs": [
    {
     "name": "stdout",
     "output_type": "stream",
     "text": [
      "Imputing row 1/768 with 1 missing, elapsed time: 0.106\n",
      "Imputing row 101/768 with 2 missing, elapsed time: 0.106\n",
      "Imputing row 201/768 with 1 missing, elapsed time: 0.106\n",
      "Imputing row 301/768 with 3 missing, elapsed time: 0.106\n",
      "Imputing row 401/768 with 2 missing, elapsed time: 0.106\n",
      "Imputing row 501/768 with 0 missing, elapsed time: 0.106\n",
      "Imputing row 601/768 with 1 missing, elapsed time: 0.106\n",
      "Imputing row 701/768 with 0 missing, elapsed time: 0.121\n"
     ]
    }
   ],
   "source": [
    "knn_imputer = KNN()\n",
    "diabetes_knn = diabetes.copy()\n",
    "diabetes_knn.iloc[:, :] = knn_imputer.fit_transform(diabetes_knn)"
   ]
  },
  {
   "cell_type": "code",
   "execution_count": 6,
   "id": "5752c5c2",
   "metadata": {},
   "outputs": [
    {
     "data": {
      "text/plain": [
       "Pregnant             0.0\n",
       "Glucose              0.0\n",
       "Diastolic_BP         0.0\n",
       "Skin_Fold            0.0\n",
       "Serum_Insulin        0.0\n",
       "BMI                  0.0\n",
       "Diabetes_Pedigree    0.0\n",
       "Age                  0.0\n",
       "Class                0.0\n",
       "dtype: float64"
      ]
     },
     "execution_count": 6,
     "metadata": {},
     "output_type": "execute_result"
    }
   ],
   "source": [
    "diabetes_knn.isna().mean()"
   ]
  },
  {
   "cell_type": "markdown",
   "id": "05fb40ab",
   "metadata": {},
   "source": [
    "### MICE(Multiple Imputations by Chained Equations)"
   ]
  },
  {
   "cell_type": "code",
   "execution_count": 7,
   "id": "e67beea9",
   "metadata": {},
   "outputs": [],
   "source": [
    "MICE_imputer = IterativeImputer()\n",
    "diabetes_MICE = diabetes.copy()\n",
    "diabetes_MICE.iloc[:, :] = MICE_imputer.fit_transform(diabetes_MICE)"
   ]
  },
  {
   "cell_type": "code",
   "execution_count": 8,
   "id": "b62ae427",
   "metadata": {},
   "outputs": [
    {
     "data": {
      "text/plain": [
       "Pregnant             0.0\n",
       "Glucose              0.0\n",
       "Diastolic_BP         0.0\n",
       "Skin_Fold            0.0\n",
       "Serum_Insulin        0.0\n",
       "BMI                  0.0\n",
       "Diabetes_Pedigree    0.0\n",
       "Age                  0.0\n",
       "Class                0.0\n",
       "dtype: float64"
      ]
     },
     "execution_count": 8,
     "metadata": {},
     "output_type": "execute_result"
    }
   ],
   "source": [
    "diabetes_MICE.isna().mean()"
   ]
  },
  {
   "cell_type": "code",
   "execution_count": 9,
   "id": "a384d49f",
   "metadata": {},
   "outputs": [
    {
     "data": {
      "text/plain": [
       "Pregnant             0.000000\n",
       "Glucose              0.006510\n",
       "Diastolic_BP         0.045573\n",
       "Skin_Fold            0.295573\n",
       "Serum_Insulin        0.486979\n",
       "BMI                  0.014323\n",
       "Diabetes_Pedigree    0.000000\n",
       "Age                  0.000000\n",
       "Class                0.000000\n",
       "dtype: float64"
      ]
     },
     "execution_count": 9,
     "metadata": {},
     "output_type": "execute_result"
    }
   ],
   "source": [
    "diabetes.isna().mean()"
   ]
  },
  {
   "cell_type": "markdown",
   "id": "1c24433e",
   "metadata": {},
   "source": [
    "### Dados com exclusão de todos os valores faltantes"
   ]
  },
  {
   "cell_type": "code",
   "execution_count": 10,
   "id": "63f2d16e",
   "metadata": {},
   "outputs": [],
   "source": [
    "diabetes_cc = diabetes.dropna(how='any')"
   ]
  },
  {
   "cell_type": "markdown",
   "id": "ffe3da0d",
   "metadata": {},
   "source": [
    "### Imputação com média em todas as variáveis"
   ]
  },
  {
   "cell_type": "code",
   "execution_count": 11,
   "id": "dc2b2202",
   "metadata": {},
   "outputs": [],
   "source": [
    "mean_imputer=SimpleImputer(strategy=\"mean\")"
   ]
  },
  {
   "cell_type": "code",
   "execution_count": 12,
   "id": "fc9dd76c",
   "metadata": {},
   "outputs": [],
   "source": [
    "diabetes_mean=diabetes.copy()\n",
    "diabetes_mean.iloc[:,:]=mean_imputer.fit_transform(diabetes)"
   ]
  },
  {
   "cell_type": "code",
   "execution_count": 13,
   "id": "e85d3db5",
   "metadata": {},
   "outputs": [
    {
     "data": {
      "text/plain": [
       "Pregnant             0.0\n",
       "Glucose              0.0\n",
       "Diastolic_BP         0.0\n",
       "Skin_Fold            0.0\n",
       "Serum_Insulin        0.0\n",
       "BMI                  0.0\n",
       "Diabetes_Pedigree    0.0\n",
       "Age                  0.0\n",
       "Class                0.0\n",
       "dtype: float64"
      ]
     },
     "execution_count": 13,
     "metadata": {},
     "output_type": "execute_result"
    }
   ],
   "source": [
    "diabetes_mean.isna().mean()"
   ]
  },
  {
   "cell_type": "markdown",
   "id": "18237532",
   "metadata": {},
   "source": [
    "### Comparação gráfica da variável Skin Fold"
   ]
  },
  {
   "cell_type": "code",
   "execution_count": 14,
   "id": "629788b8",
   "metadata": {},
   "outputs": [
    {
     "data": {
      "text/plain": [
       "Text(0.5, 0, 'Skin Fold')"
      ]
     },
     "execution_count": 14,
     "metadata": {},
     "output_type": "execute_result"
    },
    {
     "data": {
      "image/png": "[encoded data removed]",
      "text/plain": [
       "<Figure size 432x288 with 1 Axes>"
      ]
     },
     "metadata": {
      "needs_background": "light"
     },
     "output_type": "display_data"
    }
   ],
   "source": [
    "diabetes_cc['Skin_Fold'].plot(kind='kde', c='red', linewidth=3)\n",
    "diabetes_mean['Skin_Fold'].plot(kind='kde')\n",
    "diabetes_knn['Skin_Fold'].plot(kind='kde')\n",
    "diabetes_MICE['Skin_Fold'].plot(kind='kde')\n",
    "labels = ['Baseline (Complete Case)', 'Mean Imputation', 'KNN Imputation',\n",
    "'MICE Imputation']\n",
    "plt.legend(labels)\n",
    "plt.xlabel('Skin Fold')"
   ]
  },
  {
   "cell_type": "markdown",
   "id": "c0e0f066",
   "metadata": {},
   "source": [
    "### Comparação com a performance da Regressão Logística"
   ]
  },
  {
   "cell_type": "code",
   "execution_count": 15,
   "id": "8fb9a21b",
   "metadata": {},
   "outputs": [
    {
     "data": {
      "text/plain": [
       "Index(['Pregnant', 'Glucose', 'Diastolic_BP', 'Skin_Fold', 'Serum_Insulin',\n",
       "       'BMI', 'Diabetes_Pedigree', 'Age', 'Class'],\n",
       "      dtype='object')"
      ]
     },
     "execution_count": 15,
     "metadata": {},
     "output_type": "execute_result"
    }
   ],
   "source": [
    "diabetes.columns"
   ]
  },
  {
   "cell_type": "code",
   "execution_count": 19,
   "id": "18415ef3",
   "metadata": {},
   "outputs": [
    {
     "data": {
      "text/plain": [
       "0.0    0.651042\n",
       "1.0    0.348958\n",
       "Name: Class, dtype: float64"
      ]
     },
     "execution_count": 19,
     "metadata": {},
     "output_type": "execute_result"
    }
   ],
   "source": [
    "diabetes[\"Class\"].value_counts()/len(diabetes)"
   ]
  },
  {
   "cell_type": "code",
   "execution_count": 24,
   "id": "c3d62754",
   "metadata": {},
   "outputs": [
    {
     "name": "stderr",
     "output_type": "stream",
     "text": [
      "C:\\Users\\alber\\anaconda3\\lib\\site-packages\\sklearn\\linear_model\\_logistic.py:814: ConvergenceWarning: lbfgs failed to converge (status=1):\n",
      "STOP: TOTAL NO. of ITERATIONS REACHED LIMIT.\n",
      "\n",
      "Increase the number of iterations (max_iter) or scale the data as shown in:\n",
      "    https://scikit-learn.org/stable/modules/preprocessing.html\n",
      "Please also refer to the documentation for alternative solver options:\n",
      "    https://scikit-learn.org/stable/modules/linear_model.html#logistic-regression\n",
      "  n_iter_i = _check_optimize_result(\n"
     ]
    }
   ],
   "source": [
    "# Dados completos\n",
    "X=diabetes_cc.drop([\"Class\"], axis=1)\n",
    "y=diabetes_cc[\"Class\"]\n",
    "lr_cc=LogisticRegression().fit(X, y)\n",
    "f1_score_cc=f1_score(y, lr_cc.predict(X))"
   ]
  },
  {
   "cell_type": "code",
   "execution_count": 25,
   "id": "bcaebf6e",
   "metadata": {},
   "outputs": [
    {
     "name": "stderr",
     "output_type": "stream",
     "text": [
      "C:\\Users\\alber\\anaconda3\\lib\\site-packages\\sklearn\\linear_model\\_logistic.py:814: ConvergenceWarning: lbfgs failed to converge (status=1):\n",
      "STOP: TOTAL NO. of ITERATIONS REACHED LIMIT.\n",
      "\n",
      "Increase the number of iterations (max_iter) or scale the data as shown in:\n",
      "    https://scikit-learn.org/stable/modules/preprocessing.html\n",
      "Please also refer to the documentation for alternative solver options:\n",
      "    https://scikit-learn.org/stable/modules/linear_model.html#logistic-regression\n",
      "  n_iter_i = _check_optimize_result(\n"
     ]
    }
   ],
   "source": [
    "# Imputação com média\n",
    "X=diabetes_mean.drop([\"Class\"], axis=1)\n",
    "y=diabetes_mean[\"Class\"]\n",
    "lr_mean=LogisticRegression().fit(X, y)\n",
    "f1_score_mean=f1_score(y, lr_mean.predict(X))"
   ]
  },
  {
   "cell_type": "code",
   "execution_count": 26,
   "id": "12abd128",
   "metadata": {},
   "outputs": [
    {
     "name": "stderr",
     "output_type": "stream",
     "text": [
      "C:\\Users\\alber\\anaconda3\\lib\\site-packages\\sklearn\\linear_model\\_logistic.py:814: ConvergenceWarning: lbfgs failed to converge (status=1):\n",
      "STOP: TOTAL NO. of ITERATIONS REACHED LIMIT.\n",
      "\n",
      "Increase the number of iterations (max_iter) or scale the data as shown in:\n",
      "    https://scikit-learn.org/stable/modules/preprocessing.html\n",
      "Please also refer to the documentation for alternative solver options:\n",
      "    https://scikit-learn.org/stable/modules/linear_model.html#logistic-regression\n",
      "  n_iter_i = _check_optimize_result(\n"
     ]
    }
   ],
   "source": [
    "# Imputação KNN\n",
    "X=diabetes_knn.drop([\"Class\"], axis=1)\n",
    "y=diabetes_knn[\"Class\"]\n",
    "lr_knn=LogisticRegression().fit(X, y)\n",
    "f1_score_knn=f1_score(y, lr_knn.predict(X))"
   ]
  },
  {
   "cell_type": "code",
   "execution_count": 27,
   "id": "98bcbc3a",
   "metadata": {},
   "outputs": [
    {
     "name": "stderr",
     "output_type": "stream",
     "text": [
      "C:\\Users\\alber\\anaconda3\\lib\\site-packages\\sklearn\\linear_model\\_logistic.py:814: ConvergenceWarning: lbfgs failed to converge (status=1):\n",
      "STOP: TOTAL NO. of ITERATIONS REACHED LIMIT.\n",
      "\n",
      "Increase the number of iterations (max_iter) or scale the data as shown in:\n",
      "    https://scikit-learn.org/stable/modules/preprocessing.html\n",
      "Please also refer to the documentation for alternative solver options:\n",
      "    https://scikit-learn.org/stable/modules/linear_model.html#logistic-regression\n",
      "  n_iter_i = _check_optimize_result(\n"
     ]
    }
   ],
   "source": [
    "# Imputação MICE\n",
    "X=diabetes_MICE.drop([\"Class\"], axis=1)\n",
    "y=diabetes_MICE[\"Class\"]\n",
    "lr_mice=LogisticRegression().fit(X, y)\n",
    "f1_score_mice=f1_score(y, lr_mice.predict(X))"
   ]
  },
  {
   "cell_type": "markdown",
   "id": "0d4c483d",
   "metadata": {},
   "source": [
    "## Métrica F1 Score para todas as imputações comparativamente com os dados completos"
   ]
  },
  {
   "cell_type": "code",
   "execution_count": 29,
   "id": "d63f0276",
   "metadata": {},
   "outputs": [
    {
     "name": "stdout",
     "output_type": "stream",
     "text": [
      "          Dados completos  Imputação com média  Imputação com KNN  \\\n",
      "F1 Score         0.631111             0.633333           0.641509   \n",
      "\n",
      "          Imputação com MICE  \n",
      "F1 Score            0.631579  \n"
     ]
    }
   ],
   "source": [
    "print(pd.DataFrame({\"Dados completos\": f1_score_cc,\n",
    "                   \"Imputação com média\": f1_score_mean,\n",
    "                   \"Imputação com KNN\": f1_score_knn,\n",
    "                   \"Imputação com MICE\": f1_score_mice}, index=[\"F1 Score\"]))"
   ]
  }
 ],
 "metadata": {
  "kernelspec": {
   "display_name": "Python 3 (ipykernel)",
   "language": "python",
   "name": "python3"
  },
  "language_info": {
   "codemirror_mode": {
    "name": "ipython",
    "version": 3
   },
   "file_extension": ".py",
   "mimetype": "text/x-python",
   "name": "python",
   "nbconvert_exporter": "python",
   "pygments_lexer": "ipython3",
   "version": "3.9.7"
  }
 },
 "nbformat": 4,
 "nbformat_minor": 5
}
