{
 "cells": [
  {
   "cell_type": "markdown",
   "id": "0ae81af4",
   "metadata": {},
   "source": [
    "### Esse capítulo mostra duas técnicas mais avançadas para imputações de dados faltantes. Agora os valores faltantes serão preditos baseados nas outras colunas. Os métodos são:\n",
    "1. KNN: Método encontra os K vizinhos mais próximos através de alguma métrica. Então, o valor predito será a média dos valores não faltantes.\n",
    "2. MICE: Método ajusta várias regressões lineares múltiplas considerando a variável do valor faltante como target e depois tira uma média para a imputação do mesmo."
   ]
  },
  {
   "cell_type": "code",
   "execution_count": 10,
   "id": "41f64169",
   "metadata": {},
   "outputs": [],
   "source": [
    "import pandas as pd\n",
    "from fancyimpute import KNN, IterativeImputer"
   ]
  },
  {
   "cell_type": "code",
   "execution_count": 4,
   "id": "ab03d785",
   "metadata": {},
   "outputs": [
    {
     "data": {
      "text/html": [
       "<div>\n",
       "<style scoped>\n",
       "    .dataframe tbody tr th:only-of-type {\n",
       "        vertical-align: middle;\n",
       "    }\n",
       "\n",
       "    .dataframe tbody tr th {\n",
       "        vertical-align: top;\n",
       "    }\n",
       "\n",
       "    .dataframe thead th {\n",
       "        text-align: right;\n",
       "    }\n",
       "</style>\n",
       "<table border=\"1\" class=\"dataframe\">\n",
       "  <thead>\n",
       "    <tr style=\"text-align: right;\">\n",
       "      <th></th>\n",
       "      <th>Pregnant</th>\n",
       "      <th>Glucose</th>\n",
       "      <th>Diastolic_BP</th>\n",
       "      <th>Skin_Fold</th>\n",
       "      <th>Serum_Insulin</th>\n",
       "      <th>BMI</th>\n",
       "      <th>Diabetes_Pedigree</th>\n",
       "      <th>Age</th>\n",
       "      <th>Class</th>\n",
       "    </tr>\n",
       "  </thead>\n",
       "  <tbody>\n",
       "    <tr>\n",
       "      <th>0</th>\n",
       "      <td>6.0</td>\n",
       "      <td>148.0</td>\n",
       "      <td>72.0</td>\n",
       "      <td>35.0</td>\n",
       "      <td>NaN</td>\n",
       "      <td>33.6</td>\n",
       "      <td>0.627</td>\n",
       "      <td>50</td>\n",
       "      <td>1.0</td>\n",
       "    </tr>\n",
       "    <tr>\n",
       "      <th>1</th>\n",
       "      <td>1.0</td>\n",
       "      <td>85.0</td>\n",
       "      <td>66.0</td>\n",
       "      <td>29.0</td>\n",
       "      <td>NaN</td>\n",
       "      <td>26.6</td>\n",
       "      <td>0.351</td>\n",
       "      <td>31</td>\n",
       "      <td>0.0</td>\n",
       "    </tr>\n",
       "    <tr>\n",
       "      <th>2</th>\n",
       "      <td>8.0</td>\n",
       "      <td>183.0</td>\n",
       "      <td>64.0</td>\n",
       "      <td>NaN</td>\n",
       "      <td>NaN</td>\n",
       "      <td>23.3</td>\n",
       "      <td>0.672</td>\n",
       "      <td>32</td>\n",
       "      <td>1.0</td>\n",
       "    </tr>\n",
       "    <tr>\n",
       "      <th>3</th>\n",
       "      <td>1.0</td>\n",
       "      <td>89.0</td>\n",
       "      <td>66.0</td>\n",
       "      <td>23.0</td>\n",
       "      <td>94.0</td>\n",
       "      <td>28.1</td>\n",
       "      <td>0.167</td>\n",
       "      <td>21</td>\n",
       "      <td>0.0</td>\n",
       "    </tr>\n",
       "    <tr>\n",
       "      <th>4</th>\n",
       "      <td>0.0</td>\n",
       "      <td>137.0</td>\n",
       "      <td>40.0</td>\n",
       "      <td>35.0</td>\n",
       "      <td>168.0</td>\n",
       "      <td>43.1</td>\n",
       "      <td>2.288</td>\n",
       "      <td>33</td>\n",
       "      <td>1.0</td>\n",
       "    </tr>\n",
       "    <tr>\n",
       "      <th>...</th>\n",
       "      <td>...</td>\n",
       "      <td>...</td>\n",
       "      <td>...</td>\n",
       "      <td>...</td>\n",
       "      <td>...</td>\n",
       "      <td>...</td>\n",
       "      <td>...</td>\n",
       "      <td>...</td>\n",
       "      <td>...</td>\n",
       "    </tr>\n",
       "    <tr>\n",
       "      <th>763</th>\n",
       "      <td>10.0</td>\n",
       "      <td>101.0</td>\n",
       "      <td>76.0</td>\n",
       "      <td>48.0</td>\n",
       "      <td>180.0</td>\n",
       "      <td>32.9</td>\n",
       "      <td>0.171</td>\n",
       "      <td>63</td>\n",
       "      <td>0.0</td>\n",
       "    </tr>\n",
       "    <tr>\n",
       "      <th>764</th>\n",
       "      <td>2.0</td>\n",
       "      <td>122.0</td>\n",
       "      <td>70.0</td>\n",
       "      <td>27.0</td>\n",
       "      <td>NaN</td>\n",
       "      <td>36.8</td>\n",
       "      <td>0.340</td>\n",
       "      <td>27</td>\n",
       "      <td>0.0</td>\n",
       "    </tr>\n",
       "    <tr>\n",
       "      <th>765</th>\n",
       "      <td>5.0</td>\n",
       "      <td>121.0</td>\n",
       "      <td>72.0</td>\n",
       "      <td>23.0</td>\n",
       "      <td>112.0</td>\n",
       "      <td>26.2</td>\n",
       "      <td>0.245</td>\n",
       "      <td>30</td>\n",
       "      <td>0.0</td>\n",
       "    </tr>\n",
       "    <tr>\n",
       "      <th>766</th>\n",
       "      <td>1.0</td>\n",
       "      <td>126.0</td>\n",
       "      <td>60.0</td>\n",
       "      <td>NaN</td>\n",
       "      <td>NaN</td>\n",
       "      <td>30.1</td>\n",
       "      <td>0.349</td>\n",
       "      <td>47</td>\n",
       "      <td>1.0</td>\n",
       "    </tr>\n",
       "    <tr>\n",
       "      <th>767</th>\n",
       "      <td>1.0</td>\n",
       "      <td>93.0</td>\n",
       "      <td>70.0</td>\n",
       "      <td>31.0</td>\n",
       "      <td>NaN</td>\n",
       "      <td>30.4</td>\n",
       "      <td>0.315</td>\n",
       "      <td>23</td>\n",
       "      <td>0.0</td>\n",
       "    </tr>\n",
       "  </tbody>\n",
       "</table>\n",
       "<p>768 rows × 9 columns</p>\n",
       "</div>"
      ],
      "text/plain": [
       "     Pregnant  Glucose  Diastolic_BP  Skin_Fold  Serum_Insulin   BMI  \\\n",
       "0         6.0    148.0          72.0       35.0            NaN  33.6   \n",
       "1         1.0     85.0          66.0       29.0            NaN  26.6   \n",
       "2         8.0    183.0          64.0        NaN            NaN  23.3   \n",
       "3         1.0     89.0          66.0       23.0           94.0  28.1   \n",
       "4         0.0    137.0          40.0       35.0          168.0  43.1   \n",
       "..        ...      ...           ...        ...            ...   ...   \n",
       "763      10.0    101.0          76.0       48.0          180.0  32.9   \n",
       "764       2.0    122.0          70.0       27.0            NaN  36.8   \n",
       "765       5.0    121.0          72.0       23.0          112.0  26.2   \n",
       "766       1.0    126.0          60.0        NaN            NaN  30.1   \n",
       "767       1.0     93.0          70.0       31.0            NaN  30.4   \n",
       "\n",
       "     Diabetes_Pedigree  Age  Class  \n",
       "0                0.627   50    1.0  \n",
       "1                0.351   31    0.0  \n",
       "2                0.672   32    1.0  \n",
       "3                0.167   21    0.0  \n",
       "4                2.288   33    1.0  \n",
       "..                 ...  ...    ...  \n",
       "763              0.171   63    0.0  \n",
       "764              0.340   27    0.0  \n",
       "765              0.245   30    0.0  \n",
       "766              0.349   47    1.0  \n",
       "767              0.315   23    0.0  \n",
       "\n",
       "[768 rows x 9 columns]"
      ]
     },
     "execution_count": 4,
     "metadata": {},
     "output_type": "execute_result"
    }
   ],
   "source": [
    "diabetes=pd.read_csv(\"../dados/pima-indians-diabetes data.csv\", sep=\",\")\n",
    "diabetes"
   ]
  },
  {
   "cell_type": "code",
   "execution_count": 5,
   "id": "80f1eaaa",
   "metadata": {},
   "outputs": [
    {
     "data": {
      "text/plain": [
       "Pregnant             0.000000\n",
       "Glucose              0.006510\n",
       "Diastolic_BP         0.045573\n",
       "Skin_Fold            0.295573\n",
       "Serum_Insulin        0.486979\n",
       "BMI                  0.014323\n",
       "Diabetes_Pedigree    0.000000\n",
       "Age                  0.000000\n",
       "Class                0.000000\n",
       "dtype: float64"
      ]
     },
     "execution_count": 5,
     "metadata": {},
     "output_type": "execute_result"
    }
   ],
   "source": [
    "diabetes.isna().mean()"
   ]
  },
  {
   "cell_type": "markdown",
   "id": "1787e16a",
   "metadata": {},
   "source": [
    "### KNN"
   ]
  },
  {
   "cell_type": "code",
   "execution_count": 6,
   "id": "d4be6ba1",
   "metadata": {},
   "outputs": [
    {
     "name": "stdout",
     "output_type": "stream",
     "text": [
      "Imputing row 1/768 with 1 missing, elapsed time: 0.138\n",
      "Imputing row 101/768 with 2 missing, elapsed time: 0.140\n",
      "Imputing row 201/768 with 1 missing, elapsed time: 0.140\n",
      "Imputing row 301/768 with 3 missing, elapsed time: 0.153\n",
      "Imputing row 401/768 with 2 missing, elapsed time: 0.155\n",
      "Imputing row 501/768 with 0 missing, elapsed time: 0.158\n",
      "Imputing row 601/768 with 1 missing, elapsed time: 0.162\n",
      "Imputing row 701/768 with 0 missing, elapsed time: 0.166\n"
     ]
    }
   ],
   "source": [
    "knn_imputer = KNN()\n",
    "diabetes_knn = diabetes.copy()\n",
    "diabetes_knn.iloc[:, :] = knn_imputer.fit_transform(diabetes_knn)"
   ]
  },
  {
   "cell_type": "code",
   "execution_count": 8,
   "id": "a6c0ea93",
   "metadata": {},
   "outputs": [
    {
     "data": {
      "text/plain": [
       "Pregnant             0.0\n",
       "Glucose              0.0\n",
       "Diastolic_BP         0.0\n",
       "Skin_Fold            0.0\n",
       "Serum_Insulin        0.0\n",
       "BMI                  0.0\n",
       "Diabetes_Pedigree    0.0\n",
       "Age                  0.0\n",
       "Class                0.0\n",
       "dtype: float64"
      ]
     },
     "execution_count": 8,
     "metadata": {},
     "output_type": "execute_result"
    }
   ],
   "source": [
    "diabetes_knn.isna().mean()"
   ]
  },
  {
   "cell_type": "markdown",
   "id": "c48b683c",
   "metadata": {},
   "source": [
    "### MICE(Multiple Imputations by Chained Equations)"
   ]
  },
  {
   "cell_type": "code",
   "execution_count": 11,
   "id": "52f02ff8",
   "metadata": {},
   "outputs": [],
   "source": [
    "MICE_imputer = IterativeImputer()\n",
    "diabetes_MICE = diabetes.copy()\n",
    "diabetes_MICE.iloc[:, :] = MICE_imputer.fit_transform(diabetes_MICE)"
   ]
  },
  {
   "cell_type": "code",
   "execution_count": 12,
   "id": "12512713",
   "metadata": {},
   "outputs": [
    {
     "data": {
      "text/plain": [
       "Pregnant             0.0\n",
       "Glucose              0.0\n",
       "Diastolic_BP         0.0\n",
       "Skin_Fold            0.0\n",
       "Serum_Insulin        0.0\n",
       "BMI                  0.0\n",
       "Diabetes_Pedigree    0.0\n",
       "Age                  0.0\n",
       "Class                0.0\n",
       "dtype: float64"
      ]
     },
     "execution_count": 12,
     "metadata": {},
     "output_type": "execute_result"
    }
   ],
   "source": [
    "diabetes_MICE.isna().mean()"
   ]
  }
 ],
 "metadata": {
  "kernelspec": {
   "display_name": "Python 3 (ipykernel)",
   "language": "python",
   "name": "python3"
  },
  "language_info": {
   "codemirror_mode": {
    "name": "ipython",
    "version": 3
   },
   "file_extension": ".py",
   "mimetype": "text/x-python",
   "name": "python",
   "nbconvert_exporter": "python",
   "pygments_lexer": "ipython3",
   "version": "3.9.7"
  }
 },
 "nbformat": 4,
 "nbformat_minor": 5
}
