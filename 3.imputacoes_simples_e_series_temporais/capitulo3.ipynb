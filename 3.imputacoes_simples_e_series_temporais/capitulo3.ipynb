{
 "cells": [
  {
   "cell_type": "code",
   "execution_count": 1,
   "id": "66a7b5e3",
   "metadata": {},
   "outputs": [],
   "source": [
    "import pandas as pd"
   ]
  },
  {
   "cell_type": "code",
   "execution_count": 3,
   "id": "ebbc2857",
   "metadata": {},
   "outputs": [
    {
     "data": {
      "text/html": [
       "<div>\n",
       "<style scoped>\n",
       "    .dataframe tbody tr th:only-of-type {\n",
       "        vertical-align: middle;\n",
       "    }\n",
       "\n",
       "    .dataframe tbody tr th {\n",
       "        vertical-align: top;\n",
       "    }\n",
       "\n",
       "    .dataframe thead th {\n",
       "        text-align: right;\n",
       "    }\n",
       "</style>\n",
       "<table border=\"1\" class=\"dataframe\">\n",
       "  <thead>\n",
       "    <tr style=\"text-align: right;\">\n",
       "      <th></th>\n",
       "      <th>Pregnant</th>\n",
       "      <th>Glucose</th>\n",
       "      <th>Diastolic_BP</th>\n",
       "      <th>Skin_Fold</th>\n",
       "      <th>Serum_Insulin</th>\n",
       "      <th>BMI</th>\n",
       "      <th>Diabetes_Pedigree</th>\n",
       "      <th>Age</th>\n",
       "      <th>Class</th>\n",
       "    </tr>\n",
       "  </thead>\n",
       "  <tbody>\n",
       "    <tr>\n",
       "      <th>0</th>\n",
       "      <td>6.0</td>\n",
       "      <td>148.0</td>\n",
       "      <td>72.0</td>\n",
       "      <td>35.0</td>\n",
       "      <td>NaN</td>\n",
       "      <td>33.6</td>\n",
       "      <td>0.627</td>\n",
       "      <td>50</td>\n",
       "      <td>1.0</td>\n",
       "    </tr>\n",
       "    <tr>\n",
       "      <th>1</th>\n",
       "      <td>1.0</td>\n",
       "      <td>85.0</td>\n",
       "      <td>66.0</td>\n",
       "      <td>29.0</td>\n",
       "      <td>NaN</td>\n",
       "      <td>26.6</td>\n",
       "      <td>0.351</td>\n",
       "      <td>31</td>\n",
       "      <td>0.0</td>\n",
       "    </tr>\n",
       "    <tr>\n",
       "      <th>2</th>\n",
       "      <td>8.0</td>\n",
       "      <td>183.0</td>\n",
       "      <td>64.0</td>\n",
       "      <td>NaN</td>\n",
       "      <td>NaN</td>\n",
       "      <td>23.3</td>\n",
       "      <td>0.672</td>\n",
       "      <td>32</td>\n",
       "      <td>1.0</td>\n",
       "    </tr>\n",
       "    <tr>\n",
       "      <th>3</th>\n",
       "      <td>1.0</td>\n",
       "      <td>89.0</td>\n",
       "      <td>66.0</td>\n",
       "      <td>23.0</td>\n",
       "      <td>94.0</td>\n",
       "      <td>28.1</td>\n",
       "      <td>0.167</td>\n",
       "      <td>21</td>\n",
       "      <td>0.0</td>\n",
       "    </tr>\n",
       "    <tr>\n",
       "      <th>4</th>\n",
       "      <td>0.0</td>\n",
       "      <td>137.0</td>\n",
       "      <td>40.0</td>\n",
       "      <td>35.0</td>\n",
       "      <td>168.0</td>\n",
       "      <td>43.1</td>\n",
       "      <td>2.288</td>\n",
       "      <td>33</td>\n",
       "      <td>1.0</td>\n",
       "    </tr>\n",
       "    <tr>\n",
       "      <th>...</th>\n",
       "      <td>...</td>\n",
       "      <td>...</td>\n",
       "      <td>...</td>\n",
       "      <td>...</td>\n",
       "      <td>...</td>\n",
       "      <td>...</td>\n",
       "      <td>...</td>\n",
       "      <td>...</td>\n",
       "      <td>...</td>\n",
       "    </tr>\n",
       "    <tr>\n",
       "      <th>763</th>\n",
       "      <td>10.0</td>\n",
       "      <td>101.0</td>\n",
       "      <td>76.0</td>\n",
       "      <td>48.0</td>\n",
       "      <td>180.0</td>\n",
       "      <td>32.9</td>\n",
       "      <td>0.171</td>\n",
       "      <td>63</td>\n",
       "      <td>0.0</td>\n",
       "    </tr>\n",
       "    <tr>\n",
       "      <th>764</th>\n",
       "      <td>2.0</td>\n",
       "      <td>122.0</td>\n",
       "      <td>70.0</td>\n",
       "      <td>27.0</td>\n",
       "      <td>NaN</td>\n",
       "      <td>36.8</td>\n",
       "      <td>0.340</td>\n",
       "      <td>27</td>\n",
       "      <td>0.0</td>\n",
       "    </tr>\n",
       "    <tr>\n",
       "      <th>765</th>\n",
       "      <td>5.0</td>\n",
       "      <td>121.0</td>\n",
       "      <td>72.0</td>\n",
       "      <td>23.0</td>\n",
       "      <td>112.0</td>\n",
       "      <td>26.2</td>\n",
       "      <td>0.245</td>\n",
       "      <td>30</td>\n",
       "      <td>0.0</td>\n",
       "    </tr>\n",
       "    <tr>\n",
       "      <th>766</th>\n",
       "      <td>1.0</td>\n",
       "      <td>126.0</td>\n",
       "      <td>60.0</td>\n",
       "      <td>NaN</td>\n",
       "      <td>NaN</td>\n",
       "      <td>30.1</td>\n",
       "      <td>0.349</td>\n",
       "      <td>47</td>\n",
       "      <td>1.0</td>\n",
       "    </tr>\n",
       "    <tr>\n",
       "      <th>767</th>\n",
       "      <td>1.0</td>\n",
       "      <td>93.0</td>\n",
       "      <td>70.0</td>\n",
       "      <td>31.0</td>\n",
       "      <td>NaN</td>\n",
       "      <td>30.4</td>\n",
       "      <td>0.315</td>\n",
       "      <td>23</td>\n",
       "      <td>0.0</td>\n",
       "    </tr>\n",
       "  </tbody>\n",
       "</table>\n",
       "<p>768 rows × 9 columns</p>\n",
       "</div>"
      ],
      "text/plain": [
       "     Pregnant  Glucose  Diastolic_BP  Skin_Fold  Serum_Insulin   BMI  \\\n",
       "0         6.0    148.0          72.0       35.0            NaN  33.6   \n",
       "1         1.0     85.0          66.0       29.0            NaN  26.6   \n",
       "2         8.0    183.0          64.0        NaN            NaN  23.3   \n",
       "3         1.0     89.0          66.0       23.0           94.0  28.1   \n",
       "4         0.0    137.0          40.0       35.0          168.0  43.1   \n",
       "..        ...      ...           ...        ...            ...   ...   \n",
       "763      10.0    101.0          76.0       48.0          180.0  32.9   \n",
       "764       2.0    122.0          70.0       27.0            NaN  36.8   \n",
       "765       5.0    121.0          72.0       23.0          112.0  26.2   \n",
       "766       1.0    126.0          60.0        NaN            NaN  30.1   \n",
       "767       1.0     93.0          70.0       31.0            NaN  30.4   \n",
       "\n",
       "     Diabetes_Pedigree  Age  Class  \n",
       "0                0.627   50    1.0  \n",
       "1                0.351   31    0.0  \n",
       "2                0.672   32    1.0  \n",
       "3                0.167   21    0.0  \n",
       "4                2.288   33    1.0  \n",
       "..                 ...  ...    ...  \n",
       "763              0.171   63    0.0  \n",
       "764              0.340   27    0.0  \n",
       "765              0.245   30    0.0  \n",
       "766              0.349   47    1.0  \n",
       "767              0.315   23    0.0  \n",
       "\n",
       "[768 rows x 9 columns]"
      ]
     },
     "execution_count": 3,
     "metadata": {},
     "output_type": "execute_result"
    }
   ],
   "source": [
    "diabetes=pd.read_csv(\"../dados/pima-indians-diabetes data.csv\", sep=\",\")\n",
    "diabetes"
   ]
  },
  {
   "cell_type": "markdown",
   "id": "c35f8f73",
   "metadata": {},
   "source": [
    "## Para imputar valores mais simples basta usarmos funções do pandas como fillna(). Temos vários métodos simples de imputação:\n",
    "1. Média\n",
    "2. Mediana\n",
    "3. Valor mais frequente(para variáveis categóricas)\n",
    "4. Valor constante. Ex: 0,1,etc.."
   ]
  },
  {
   "cell_type": "code",
   "execution_count": 8,
   "id": "fb77efa0",
   "metadata": {},
   "outputs": [
    {
     "data": {
      "text/plain": [
       "Pregnant             0.000000\n",
       "Glucose              0.006510\n",
       "Diastolic_BP         0.045573\n",
       "Skin_Fold            0.295573\n",
       "Serum_Insulin        0.486979\n",
       "BMI                  0.014323\n",
       "Diabetes_Pedigree    0.000000\n",
       "Age                  0.000000\n",
       "Class                0.000000\n",
       "dtype: float64"
      ]
     },
     "execution_count": 8,
     "metadata": {},
     "output_type": "execute_result"
    }
   ],
   "source": [
    "diabetes.isna().mean()"
   ]
  },
  {
   "cell_type": "code",
   "execution_count": 20,
   "id": "a7b21e8c",
   "metadata": {},
   "outputs": [],
   "source": [
    "# Média\n",
    "diabetes[\"Serum_Insulin\"].fillna(diabetes[\"Serum_Insulin\"].mean(), inplace=True)\n",
    "# Mediana\n",
    "diabetes[\"Diastolic_BP\"].fillna(diabetes[\"Diastolic_BP\"].median(), inplace=True)\n",
    "diabetes[\"Glucose\"].fillna(diabetes[\"Glucose\"].median(), inplace=True)\n",
    "# Valor mais frequente\n",
    "diabetes[\"Skin_Fold\"].fillna(diabetes[\"Skin_Fold\"].mode()[0], inplace=True)\n",
    "# Valor constante\n",
    "diabetes[\"BMI\"].fillna(0, inplace=True)"
   ]
  },
  {
   "cell_type": "code",
   "execution_count": 22,
   "id": "b0417cfa",
   "metadata": {},
   "outputs": [
    {
     "data": {
      "text/plain": [
       "Pregnant             0.0\n",
       "Glucose              0.0\n",
       "Diastolic_BP         0.0\n",
       "Skin_Fold            0.0\n",
       "Serum_Insulin        0.0\n",
       "BMI                  0.0\n",
       "Diabetes_Pedigree    0.0\n",
       "Age                  0.0\n",
       "Class                0.0\n",
       "dtype: float64"
      ]
     },
     "execution_count": 22,
     "metadata": {},
     "output_type": "execute_result"
    }
   ],
   "source": [
    "diabetes.isna().mean()"
   ]
  },
  {
   "cell_type": "markdown",
   "id": "2a4ef718",
   "metadata": {},
   "source": [
    "## Métodos de imputação para dados de séries temporais. Usando novamente a função fillna() temos os métodos mais comuns:\n",
    "1. ffill: Substitui o valor faltante pelo último valor não faltante)\n",
    "2. bfill: Substitui o valor faltante pelo próximo valor não faltante)\n",
    "3. Interpolate-Linear: Pesquisar\n",
    "4. Interpolate-Nearest: Pesquisar"
   ]
  },
  {
   "cell_type": "code",
   "execution_count": 24,
   "id": "36fa008c",
   "metadata": {},
   "outputs": [
    {
     "data": {
      "text/html": [
       "<div>\n",
       "<style scoped>\n",
       "    .dataframe tbody tr th:only-of-type {\n",
       "        vertical-align: middle;\n",
       "    }\n",
       "\n",
       "    .dataframe tbody tr th {\n",
       "        vertical-align: top;\n",
       "    }\n",
       "\n",
       "    .dataframe thead th {\n",
       "        text-align: right;\n",
       "    }\n",
       "</style>\n",
       "<table border=\"1\" class=\"dataframe\">\n",
       "  <thead>\n",
       "    <tr style=\"text-align: right;\">\n",
       "      <th></th>\n",
       "      <th>Date</th>\n",
       "      <th>Ozone</th>\n",
       "      <th>Solar</th>\n",
       "      <th>Wind</th>\n",
       "      <th>Temp</th>\n",
       "    </tr>\n",
       "  </thead>\n",
       "  <tbody>\n",
       "    <tr>\n",
       "      <th>0</th>\n",
       "      <td>1976-05-01</td>\n",
       "      <td>41.0</td>\n",
       "      <td>190.0</td>\n",
       "      <td>7.4</td>\n",
       "      <td>67</td>\n",
       "    </tr>\n",
       "    <tr>\n",
       "      <th>1</th>\n",
       "      <td>1976-05-02</td>\n",
       "      <td>36.0</td>\n",
       "      <td>118.0</td>\n",
       "      <td>8.0</td>\n",
       "      <td>72</td>\n",
       "    </tr>\n",
       "    <tr>\n",
       "      <th>2</th>\n",
       "      <td>1976-05-03</td>\n",
       "      <td>12.0</td>\n",
       "      <td>149.0</td>\n",
       "      <td>12.6</td>\n",
       "      <td>74</td>\n",
       "    </tr>\n",
       "    <tr>\n",
       "      <th>3</th>\n",
       "      <td>1976-05-04</td>\n",
       "      <td>18.0</td>\n",
       "      <td>313.0</td>\n",
       "      <td>11.5</td>\n",
       "      <td>62</td>\n",
       "    </tr>\n",
       "    <tr>\n",
       "      <th>4</th>\n",
       "      <td>1976-05-05</td>\n",
       "      <td>NaN</td>\n",
       "      <td>NaN</td>\n",
       "      <td>14.3</td>\n",
       "      <td>56</td>\n",
       "    </tr>\n",
       "  </tbody>\n",
       "</table>\n",
       "</div>"
      ],
      "text/plain": [
       "         Date  Ozone  Solar  Wind  Temp\n",
       "0  1976-05-01   41.0  190.0   7.4    67\n",
       "1  1976-05-02   36.0  118.0   8.0    72\n",
       "2  1976-05-03   12.0  149.0  12.6    74\n",
       "3  1976-05-04   18.0  313.0  11.5    62\n",
       "4  1976-05-05    NaN    NaN  14.3    56"
      ]
     },
     "execution_count": 24,
     "metadata": {},
     "output_type": "execute_result"
    }
   ],
   "source": [
    "airquality = pd.read_csv('../dados/air-quality.csv')\n",
    "airquality.head()"
   ]
  },
  {
   "cell_type": "code",
   "execution_count": 25,
   "id": "0408eb08",
   "metadata": {},
   "outputs": [
    {
     "data": {
      "text/plain": [
       "Date     0.000000\n",
       "Ozone    0.241830\n",
       "Solar    0.045752\n",
       "Wind     0.000000\n",
       "Temp     0.000000\n",
       "dtype: float64"
      ]
     },
     "execution_count": 25,
     "metadata": {},
     "output_type": "execute_result"
    }
   ],
   "source": [
    "airquality.isna().mean()"
   ]
  },
  {
   "cell_type": "markdown",
   "id": "e4ab46fa",
   "metadata": {},
   "source": [
    "### Método ffill"
   ]
  },
  {
   "cell_type": "code",
   "execution_count": 26,
   "id": "3c82076b",
   "metadata": {},
   "outputs": [
    {
     "data": {
      "text/plain": [
       "30    37.0\n",
       "31     NaN\n",
       "32     NaN\n",
       "33     NaN\n",
       "34     NaN\n",
       "35     NaN\n",
       "36     NaN\n",
       "37    29.0\n",
       "38     NaN\n",
       "39    71.0\n",
       "Name: Ozone, dtype: float64"
      ]
     },
     "execution_count": 26,
     "metadata": {},
     "output_type": "execute_result"
    }
   ],
   "source": [
    "airquality['Ozone'][30:40]"
   ]
  },
  {
   "cell_type": "code",
   "execution_count": 27,
   "id": "7bb9213b",
   "metadata": {},
   "outputs": [
    {
     "data": {
      "text/plain": [
       "30    37.0\n",
       "31    37.0\n",
       "32    37.0\n",
       "33    37.0\n",
       "34    37.0\n",
       "35    37.0\n",
       "36    37.0\n",
       "37    29.0\n",
       "38    29.0\n",
       "39    71.0\n",
       "Name: Ozone, dtype: float64"
      ]
     },
     "execution_count": 27,
     "metadata": {},
     "output_type": "execute_result"
    }
   ],
   "source": [
    "airquality['Ozone'][30:40].fillna(method='ffill')"
   ]
  },
  {
   "cell_type": "markdown",
   "id": "38c1e9e9",
   "metadata": {},
   "source": [
    "### Método bfill"
   ]
  },
  {
   "cell_type": "code",
   "execution_count": 28,
   "id": "2d5cc168",
   "metadata": {},
   "outputs": [
    {
     "data": {
      "text/plain": [
       "30    37.0\n",
       "31     NaN\n",
       "32     NaN\n",
       "33     NaN\n",
       "34     NaN\n",
       "35     NaN\n",
       "36     NaN\n",
       "37    29.0\n",
       "38     NaN\n",
       "39    71.0\n",
       "Name: Ozone, dtype: float64"
      ]
     },
     "execution_count": 28,
     "metadata": {},
     "output_type": "execute_result"
    }
   ],
   "source": [
    "airquality['Ozone'][30:40]"
   ]
  },
  {
   "cell_type": "code",
   "execution_count": 29,
   "id": "ce4207e6",
   "metadata": {},
   "outputs": [
    {
     "data": {
      "text/plain": [
       "30    37.0\n",
       "31    29.0\n",
       "32    29.0\n",
       "33    29.0\n",
       "34    29.0\n",
       "35    29.0\n",
       "36    29.0\n",
       "37    29.0\n",
       "38    71.0\n",
       "39    71.0\n",
       "Name: Ozone, dtype: float64"
      ]
     },
     "execution_count": 29,
     "metadata": {},
     "output_type": "execute_result"
    }
   ],
   "source": [
    "airquality['Ozone'][30:40].fillna(method='bfill')"
   ]
  },
  {
   "cell_type": "markdown",
   "id": "40e6e77e",
   "metadata": {},
   "source": [
    "### Função interpolate-Linear"
   ]
  },
  {
   "cell_type": "code",
   "execution_count": 28,
   "id": "7d97c972",
   "metadata": {},
   "outputs": [
    {
     "data": {
      "text/plain": [
       "30    37.0\n",
       "31     NaN\n",
       "32     NaN\n",
       "33     NaN\n",
       "34     NaN\n",
       "35     NaN\n",
       "36     NaN\n",
       "37    29.0\n",
       "38     NaN\n",
       "39    71.0\n",
       "Name: Ozone, dtype: float64"
      ]
     },
     "execution_count": 28,
     "metadata": {},
     "output_type": "execute_result"
    }
   ],
   "source": [
    "airquality['Ozone'][30:40]"
   ]
  },
  {
   "cell_type": "code",
   "execution_count": 30,
   "id": "a6bcc5af",
   "metadata": {},
   "outputs": [
    {
     "data": {
      "text/plain": [
       "30    37.000000\n",
       "31    35.857143\n",
       "32    34.714286\n",
       "33    33.571429\n",
       "34    32.428571\n",
       "35    31.285714\n",
       "36    30.142857\n",
       "37    29.000000\n",
       "38    50.000000\n",
       "39    71.000000\n",
       "Name: Ozone, dtype: float64"
      ]
     },
     "execution_count": 30,
     "metadata": {},
     "output_type": "execute_result"
    }
   ],
   "source": [
    "airquality['Ozone'][30:40].interpolate(method='linear')"
   ]
  },
  {
   "cell_type": "markdown",
   "id": "cc53a96a",
   "metadata": {},
   "source": [
    "### Função interpolate-Nearest"
   ]
  },
  {
   "cell_type": "code",
   "execution_count": 31,
   "id": "f99007f0",
   "metadata": {},
   "outputs": [
    {
     "data": {
      "text/plain": [
       "30    37.0\n",
       "31     NaN\n",
       "32     NaN\n",
       "33     NaN\n",
       "34     NaN\n",
       "35     NaN\n",
       "36     NaN\n",
       "37    29.0\n",
       "38     NaN\n",
       "39    71.0\n",
       "Name: Ozone, dtype: float64"
      ]
     },
     "execution_count": 31,
     "metadata": {},
     "output_type": "execute_result"
    }
   ],
   "source": [
    "airquality['Ozone'][30:40]"
   ]
  },
  {
   "cell_type": "code",
   "execution_count": 32,
   "id": "04d65f19",
   "metadata": {},
   "outputs": [
    {
     "data": {
      "text/plain": [
       "30    37.0\n",
       "31    37.0\n",
       "32    37.0\n",
       "33    37.0\n",
       "34    29.0\n",
       "35    29.0\n",
       "36    29.0\n",
       "37    29.0\n",
       "38    29.0\n",
       "39    71.0\n",
       "Name: Ozone, dtype: float64"
      ]
     },
     "execution_count": 32,
     "metadata": {},
     "output_type": "execute_result"
    }
   ],
   "source": [
    "airquality['Ozone'][30:40].interpolate(method='nearest')"
   ]
  },
  {
   "cell_type": "code",
   "execution_count": null,
   "id": "b73e9926",
   "metadata": {},
   "outputs": [],
   "source": []
  },
  {
   "cell_type": "code",
   "execution_count": null,
   "id": "5af7ce1d",
   "metadata": {},
   "outputs": [],
   "source": []
  },
  {
   "cell_type": "code",
   "execution_count": null,
   "id": "8a0af21b",
   "metadata": {},
   "outputs": [],
   "source": []
  },
  {
   "cell_type": "code",
   "execution_count": null,
   "id": "a4c105f7",
   "metadata": {},
   "outputs": [],
   "source": []
  },
  {
   "cell_type": "code",
   "execution_count": null,
   "id": "46128141",
   "metadata": {},
   "outputs": [],
   "source": []
  }
 ],
 "metadata": {
  "kernelspec": {
   "display_name": "Python 3 (ipykernel)",
   "language": "python",
   "name": "python3"
  },
  "language_info": {
   "codemirror_mode": {
    "name": "ipython",
    "version": 3
   },
   "file_extension": ".py",
   "mimetype": "text/x-python",
   "name": "python",
   "nbconvert_exporter": "python",
   "pygments_lexer": "ipython3",
   "version": "3.9.7"
  }
 },
 "nbformat": 4,
 "nbformat_minor": 5
}
