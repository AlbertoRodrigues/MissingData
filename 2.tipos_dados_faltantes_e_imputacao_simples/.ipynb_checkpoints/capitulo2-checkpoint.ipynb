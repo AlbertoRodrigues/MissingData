{
 "cells": [
  {
   "cell_type": "code",
   "execution_count": 2,
   "id": "d2e0d08f",
   "metadata": {},
   "outputs": [],
   "source": [
    "import pandas as pd"
   ]
  },
  {
   "cell_type": "markdown",
   "id": "ce26b8ff",
   "metadata": {},
   "source": [
    "### Tipos de dados faltantes:\n",
    "1. Dado faltante completamente aleatório\n",
    "2. Dado faltante aleatório\n",
    "3. Dado faltante não aleatório"
   ]
  },
  {
   "cell_type": "markdown",
   "id": "3873977a",
   "metadata": {},
   "source": [
    "## 1. Dado faltante completamente aleatório:\n",
    "- É quando o motivo dos valores dessa variável serem faltantes não dependem de nenhum outro valor, seja da própria variável ou de outra distinta.\n",
    "- Exemplo: "
   ]
  },
  {
   "cell_type": "markdown",
   "id": "445e44a7",
   "metadata": {},
   "source": [
    "## 2. Dado faltante aleatório:\n",
    "- É quando o motivo dos valores dessa variável serem faltantes dependem de valores de outras variáeis.\n",
    "- Exemplo: "
   ]
  },
  {
   "cell_type": "markdown",
   "id": "221a7cb8",
   "metadata": {},
   "source": [
    "## 3. Dado faltante não aleatório:\n",
    "- É quando o motivo dos valores dessa variável serem faltantes é conhecido. "
   ]
  },
  {
   "cell_type": "markdown",
   "id": "928cc133",
   "metadata": {},
   "source": [
    "### Quando e como deletar os dados faltantes\n",
    "- Deletar quando os valores são completamente aleatórios, caso contrário, pode substituir usando algum método"
   ]
  },
  {
   "cell_type": "markdown",
   "id": "12ee18fb",
   "metadata": {},
   "source": [
    "### Deletando dados faltantes da variável "
   ]
  },
  {
   "cell_type": "code",
   "execution_count": 4,
   "id": "f6971f46",
   "metadata": {},
   "outputs": [
    {
     "data": {
      "text/html": [
       "<div>\n",
       "<style scoped>\n",
       "    .dataframe tbody tr th:only-of-type {\n",
       "        vertical-align: middle;\n",
       "    }\n",
       "\n",
       "    .dataframe tbody tr th {\n",
       "        vertical-align: top;\n",
       "    }\n",
       "\n",
       "    .dataframe thead th {\n",
       "        text-align: right;\n",
       "    }\n",
       "</style>\n",
       "<table border=\"1\" class=\"dataframe\">\n",
       "  <thead>\n",
       "    <tr style=\"text-align: right;\">\n",
       "      <th></th>\n",
       "      <th>Pregnant</th>\n",
       "      <th>Glucose</th>\n",
       "      <th>Diastolic_BP</th>\n",
       "      <th>Skin_Fold</th>\n",
       "      <th>Serum_Insulin</th>\n",
       "      <th>BMI</th>\n",
       "      <th>Diabetes_Pedigree</th>\n",
       "      <th>Age</th>\n",
       "      <th>Class</th>\n",
       "    </tr>\n",
       "  </thead>\n",
       "  <tbody>\n",
       "    <tr>\n",
       "      <th>0</th>\n",
       "      <td>6.0</td>\n",
       "      <td>148.0</td>\n",
       "      <td>72.0</td>\n",
       "      <td>35.0</td>\n",
       "      <td>NaN</td>\n",
       "      <td>33.6</td>\n",
       "      <td>0.627</td>\n",
       "      <td>50</td>\n",
       "      <td>1.0</td>\n",
       "    </tr>\n",
       "    <tr>\n",
       "      <th>1</th>\n",
       "      <td>1.0</td>\n",
       "      <td>85.0</td>\n",
       "      <td>66.0</td>\n",
       "      <td>29.0</td>\n",
       "      <td>NaN</td>\n",
       "      <td>26.6</td>\n",
       "      <td>0.351</td>\n",
       "      <td>31</td>\n",
       "      <td>0.0</td>\n",
       "    </tr>\n",
       "    <tr>\n",
       "      <th>2</th>\n",
       "      <td>8.0</td>\n",
       "      <td>183.0</td>\n",
       "      <td>64.0</td>\n",
       "      <td>NaN</td>\n",
       "      <td>NaN</td>\n",
       "      <td>23.3</td>\n",
       "      <td>0.672</td>\n",
       "      <td>32</td>\n",
       "      <td>1.0</td>\n",
       "    </tr>\n",
       "    <tr>\n",
       "      <th>3</th>\n",
       "      <td>1.0</td>\n",
       "      <td>89.0</td>\n",
       "      <td>66.0</td>\n",
       "      <td>23.0</td>\n",
       "      <td>94.0</td>\n",
       "      <td>28.1</td>\n",
       "      <td>0.167</td>\n",
       "      <td>21</td>\n",
       "      <td>0.0</td>\n",
       "    </tr>\n",
       "    <tr>\n",
       "      <th>4</th>\n",
       "      <td>0.0</td>\n",
       "      <td>137.0</td>\n",
       "      <td>40.0</td>\n",
       "      <td>35.0</td>\n",
       "      <td>168.0</td>\n",
       "      <td>43.1</td>\n",
       "      <td>2.288</td>\n",
       "      <td>33</td>\n",
       "      <td>1.0</td>\n",
       "    </tr>\n",
       "    <tr>\n",
       "      <th>...</th>\n",
       "      <td>...</td>\n",
       "      <td>...</td>\n",
       "      <td>...</td>\n",
       "      <td>...</td>\n",
       "      <td>...</td>\n",
       "      <td>...</td>\n",
       "      <td>...</td>\n",
       "      <td>...</td>\n",
       "      <td>...</td>\n",
       "    </tr>\n",
       "    <tr>\n",
       "      <th>763</th>\n",
       "      <td>10.0</td>\n",
       "      <td>101.0</td>\n",
       "      <td>76.0</td>\n",
       "      <td>48.0</td>\n",
       "      <td>180.0</td>\n",
       "      <td>32.9</td>\n",
       "      <td>0.171</td>\n",
       "      <td>63</td>\n",
       "      <td>0.0</td>\n",
       "    </tr>\n",
       "    <tr>\n",
       "      <th>764</th>\n",
       "      <td>2.0</td>\n",
       "      <td>122.0</td>\n",
       "      <td>70.0</td>\n",
       "      <td>27.0</td>\n",
       "      <td>NaN</td>\n",
       "      <td>36.8</td>\n",
       "      <td>0.340</td>\n",
       "      <td>27</td>\n",
       "      <td>0.0</td>\n",
       "    </tr>\n",
       "    <tr>\n",
       "      <th>765</th>\n",
       "      <td>5.0</td>\n",
       "      <td>121.0</td>\n",
       "      <td>72.0</td>\n",
       "      <td>23.0</td>\n",
       "      <td>112.0</td>\n",
       "      <td>26.2</td>\n",
       "      <td>0.245</td>\n",
       "      <td>30</td>\n",
       "      <td>0.0</td>\n",
       "    </tr>\n",
       "    <tr>\n",
       "      <th>766</th>\n",
       "      <td>1.0</td>\n",
       "      <td>126.0</td>\n",
       "      <td>60.0</td>\n",
       "      <td>NaN</td>\n",
       "      <td>NaN</td>\n",
       "      <td>30.1</td>\n",
       "      <td>0.349</td>\n",
       "      <td>47</td>\n",
       "      <td>1.0</td>\n",
       "    </tr>\n",
       "    <tr>\n",
       "      <th>767</th>\n",
       "      <td>1.0</td>\n",
       "      <td>93.0</td>\n",
       "      <td>70.0</td>\n",
       "      <td>31.0</td>\n",
       "      <td>NaN</td>\n",
       "      <td>30.4</td>\n",
       "      <td>0.315</td>\n",
       "      <td>23</td>\n",
       "      <td>0.0</td>\n",
       "    </tr>\n",
       "  </tbody>\n",
       "</table>\n",
       "<p>768 rows × 9 columns</p>\n",
       "</div>"
      ],
      "text/plain": [
       "     Pregnant  Glucose  Diastolic_BP  Skin_Fold  Serum_Insulin   BMI  \\\n",
       "0         6.0    148.0          72.0       35.0            NaN  33.6   \n",
       "1         1.0     85.0          66.0       29.0            NaN  26.6   \n",
       "2         8.0    183.0          64.0        NaN            NaN  23.3   \n",
       "3         1.0     89.0          66.0       23.0           94.0  28.1   \n",
       "4         0.0    137.0          40.0       35.0          168.0  43.1   \n",
       "..        ...      ...           ...        ...            ...   ...   \n",
       "763      10.0    101.0          76.0       48.0          180.0  32.9   \n",
       "764       2.0    122.0          70.0       27.0            NaN  36.8   \n",
       "765       5.0    121.0          72.0       23.0          112.0  26.2   \n",
       "766       1.0    126.0          60.0        NaN            NaN  30.1   \n",
       "767       1.0     93.0          70.0       31.0            NaN  30.4   \n",
       "\n",
       "     Diabetes_Pedigree  Age  Class  \n",
       "0                0.627   50    1.0  \n",
       "1                0.351   31    0.0  \n",
       "2                0.672   32    1.0  \n",
       "3                0.167   21    0.0  \n",
       "4                2.288   33    1.0  \n",
       "..                 ...  ...    ...  \n",
       "763              0.171   63    0.0  \n",
       "764              0.340   27    0.0  \n",
       "765              0.245   30    0.0  \n",
       "766              0.349   47    1.0  \n",
       "767              0.315   23    0.0  \n",
       "\n",
       "[768 rows x 9 columns]"
      ]
     },
     "execution_count": 4,
     "metadata": {},
     "output_type": "execute_result"
    }
   ],
   "source": [
    "diabetes=pd.read_csv(\"../dados/pima-indians-diabetes data.csv\", sep=\",\")\n",
    "diabetes"
   ]
  },
  {
   "cell_type": "code",
   "execution_count": 5,
   "id": "81afa2bf",
   "metadata": {},
   "outputs": [
    {
     "data": {
      "text/plain": [
       "Pregnant             0.000000\n",
       "Glucose              0.006510\n",
       "Diastolic_BP         0.045573\n",
       "Skin_Fold            0.295573\n",
       "Serum_Insulin        0.486979\n",
       "BMI                  0.014323\n",
       "Diabetes_Pedigree    0.000000\n",
       "Age                  0.000000\n",
       "Class                0.000000\n",
       "dtype: float64"
      ]
     },
     "execution_count": 5,
     "metadata": {},
     "output_type": "execute_result"
    }
   ],
   "source": [
    "diabetes.isna().mean()"
   ]
  },
  {
   "cell_type": "code",
   "execution_count": 8,
   "id": "4d718fc8",
   "metadata": {},
   "outputs": [],
   "source": [
    "# Deletando valores faltantes da variável Glucose usando a função dropna()\n",
    "diabetes.dropna(subset=[\"Glucose\"], inplace=True, how=\"any\")"
   ]
  },
  {
   "cell_type": "code",
   "execution_count": 9,
   "id": "20386603",
   "metadata": {},
   "outputs": [
    {
     "data": {
      "text/plain": [
       "Pregnant             0.000000\n",
       "Glucose              0.000000\n",
       "Diastolic_BP         0.045872\n",
       "Skin_Fold            0.297510\n",
       "Serum_Insulin        0.484928\n",
       "BMI                  0.014417\n",
       "Diabetes_Pedigree    0.000000\n",
       "Age                  0.000000\n",
       "Class                0.000000\n",
       "dtype: float64"
      ]
     },
     "execution_count": 9,
     "metadata": {},
     "output_type": "execute_result"
    }
   ],
   "source": [
    "diabetes.isna().mean()"
   ]
  },
  {
   "cell_type": "code",
   "execution_count": null,
   "id": "a96c8da2",
   "metadata": {},
   "outputs": [],
   "source": []
  }
 ],
 "metadata": {
  "kernelspec": {
   "display_name": "Python 3 (ipykernel)",
   "language": "python",
   "name": "python3"
  },
  "language_info": {
   "codemirror_mode": {
    "name": "ipython",
    "version": 3
   },
   "file_extension": ".py",
   "mimetype": "text/x-python",
   "name": "python",
   "nbconvert_exporter": "python",
   "pygments_lexer": "ipython3",
   "version": "3.9.7"
  }
 },
 "nbformat": 4,
 "nbformat_minor": 5
}
